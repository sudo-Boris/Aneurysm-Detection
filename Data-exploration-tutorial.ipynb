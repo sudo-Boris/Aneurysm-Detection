{
 "cells": [
  {
   "cell_type": "code",
   "execution_count": 22,
   "metadata": {},
   "outputs": [],
   "source": [
    "%matplotlib widget"
   ]
  },
  {
   "cell_type": "code",
   "execution_count": 23,
   "metadata": {
    "tags": []
   },
   "outputs": [],
   "source": [
    "import os\n",
    "from pathlib import Path\n",
    "\n",
    "import numpy as np\n",
    "from ipywidgets import widgets\n",
    "import matplotlib.pyplot as plt\n",
    "\n",
    "import nibabel as nib"
   ]
  },
  {
   "cell_type": "markdown",
   "metadata": {},
   "source": [
    "## Outline\n",
    "\n",
    "1. Loading data with [nibabel](https://nipy.org/nibabel/gettingstarted.html)\n",
    "2. Visualizing image data with [matplotlib](https://matplotlib.org/)\n",
    "3. Visualizing mesh with [pyvista](https://docs.pyvista.org/)\n",
    "4. Dataloader with [pytorch](https://pytorch.org/)\n",
    "5. Simple CNN with [pytorch](https://pytorch.org/)"
   ]
  },
  {
   "cell_type": "markdown",
   "metadata": {},
   "source": [
    "## Load data"
   ]
  },
  {
   "cell_type": "code",
   "execution_count": 24,
   "metadata": {},
   "outputs": [],
   "source": [
    "data_path = Path('data/training')"
   ]
  },
  {
   "cell_type": "code",
   "execution_count": 25,
   "metadata": {},
   "outputs": [],
   "source": [
    "files = list(data_path.glob('*.*'))\n",
    "files_orig = list(filter(lambda file: 'orig.nii.gz' in str(file), files))\n",
    "files_masks = list(filter(lambda file: 'masks.nii.gz' in str(file), files))\n",
    "files_labeled = list(filter(lambda file: 'labeledMasks.nii.gz' in str(file), files))"
   ]
  },
  {
   "cell_type": "markdown",
   "metadata": {},
   "source": [
    "### Nibabel"
   ]
  },
  {
   "cell_type": "code",
   "execution_count": 26,
   "metadata": {},
   "outputs": [],
   "source": [
    "# load NIFTI image\n",
    "image = nib.load(data_path / 'A003_orig.nii.gz')"
   ]
  },
  {
   "cell_type": "code",
   "execution_count": 27,
   "metadata": {},
   "outputs": [
    {
     "data": {
      "text/plain": [
       "array([[ -3.68215613,  -0.        ,  -0.        ,  95.73240724],\n",
       "       [ -0.        ,  -3.68215613,  -0.        , 137.47713025],\n",
       "       [  0.        ,   0.        ,   3.71593744, 204.81814423],\n",
       "       [  0.        ,   0.        ,   0.        ,   1.        ]])"
      ]
     },
     "execution_count": 27,
     "metadata": {},
     "output_type": "execute_result"
    }
   ],
   "source": [
    "# voxel to world matrix\n",
    "affine = image.affine\n",
    "\n",
    "# TODO: calculate inverse affine matrix\n",
    "# inverse_affine = calculate_inverse_affine(affine)\n",
    "\n",
    "affine_inv = np.linalg.inv(affine)\n",
    "\n",
    "#\n",
    "# affine\n",
    "affine_inv"
   ]
  },
  {
   "cell_type": "code",
   "execution_count": 28,
   "metadata": {},
   "outputs": [
    {
     "data": {
      "text/plain": [
       "('mm', 'unknown')"
      ]
     },
     "execution_count": 28,
     "metadata": {},
     "output_type": "execute_result"
    }
   ],
   "source": [
    "# NIFTI header\n",
    "header = image.header\n",
    "header.get_xyzt_units()"
   ]
  },
  {
   "cell_type": "code",
   "execution_count": 29,
   "metadata": {},
   "outputs": [],
   "source": [
    "# nibabel NIFIT image to numpy\n",
    "image_np = image.get_fdata()"
   ]
  },
  {
   "cell_type": "markdown",
   "metadata": {},
   "source": [
    "### Visualization"
   ]
  },
  {
   "cell_type": "code",
   "execution_count": 30,
   "metadata": {},
   "outputs": [],
   "source": [
    "def mask_overlay(image, mask, color=(0., 1., 0.), weight=.5):\n",
    "    \"\"\"\n",
    "    Helper function to visualize mask on the top of the aneurysm\n",
    "    \"\"\"\n",
    "    mask = np.dstack((mask, mask, mask)) * np.array(color)\n",
    "    mask = mask.astype(np.uint8)\n",
    "    weighted_sum = image * weight + mask * (1 - weight) # cv2.addWeighted(image, 1 - weight, mask, weight, 0.,  dtype=cv2.CV_32F)\n",
    "    img = image.copy()\n",
    "    ind = mask[:, :, 1] > 0    \n",
    "    img[ind] = weighted_sum[ind]    \n",
    "    return img\n",
    "\n",
    "\n",
    "class ImageSlicer(object):\n",
    "    \n",
    "    def __init__(self, ax, data_path, case):\n",
    "        self.ax = ax\n",
    "        \n",
    "        # load NIFTI image & mask\n",
    "        self.image_nib = nib.load(data_path / '{}_orig.nii.gz'.format(case))\n",
    "        self.mask_nib = nib.load(data_path / '{}_masks.nii.gz'.format(case))\n",
    "        \n",
    "        # convert to numpy array\n",
    "        self.image_np = self.image_nib.get_fdata()\n",
    "        self.mask_np = self.mask_nib.get_fdata()\n",
    "\n",
    "        # get number of slices\n",
    "        _, _, self.slices = self.image_np.shape\n",
    "        self.ind = self.slices // 2\n",
    "\n",
    "        # plot image with mask overlay\n",
    "        self.image_plt = self.ax.imshow(self.overlay)\n",
    "        self._draw()\n",
    "        \n",
    "    @property\n",
    "    def overlay(self):\n",
    "        \n",
    "        # get image and mask slice\n",
    "        image = self.image_np[:, :, self.ind]\n",
    "        image = image / np.max(image)\n",
    "        image = np.dstack((image, image, image))\n",
    "        mask = self.mask_np[:, :, self.ind]\n",
    "        \n",
    "        # create masked overlay\n",
    "        return mask_overlay(image, mask)\n",
    "\n",
    "    def onscroll(self, event):\n",
    "        \n",
    "        # get new slice number\n",
    "        self.ind = event['new']\n",
    "        self.update()\n",
    "\n",
    "    def update(self):\n",
    "        \n",
    "        # draw overlay\n",
    "        self.image_plt.set_data(self.overlay)\n",
    "        self._draw()\n",
    "        \n",
    "    def _draw(self):\n",
    "        self.image_plt.axes.figure.canvas.draw()\n",
    "\n",
    "\n",
    "def plot3d(data_path, case):\n",
    "    \n",
    "    #\n",
    "    figure, ax = plt.subplots(1, 1)\n",
    "    ax.set_title(case)\n",
    "    tracker = ImageSlicer(ax, data_path, case)\n",
    "    \n",
    "    #\n",
    "    int_slider = widgets.IntSlider(\n",
    "        value=tracker.ind, \n",
    "        min=0, \n",
    "        max=tracker.slices, \n",
    "        step=1,\n",
    "        description='Slice',\n",
    "        continuous_update=True\n",
    "    )\n",
    "    int_slider.observe(tracker.onscroll, 'value')\n",
    "    \n",
    "    return figure, int_slider"
   ]
  },
  {
   "cell_type": "code",
   "execution_count": 31,
   "metadata": {},
   "outputs": [
    {
     "data": {
      "application/vnd.jupyter.widget-view+json": {
       "model_id": "46d41bc76fe14e8396fb3feed2bf02dd",
       "version_major": 2,
       "version_minor": 0
      },
      "text/plain": [
       "Canvas(toolbar=Toolbar(toolitems=[('Home', 'Reset original view', 'home', 'home'), ('Back', 'Back to previous …"
      ]
     },
     "metadata": {},
     "output_type": "display_data"
    },
    {
     "data": {
      "application/vnd.jupyter.widget-view+json": {
       "model_id": "c86cb85f7ff3400fab929dfb05b2b64b",
       "version_major": 2,
       "version_minor": 0
      },
      "text/plain": [
       "IntSlider(value=110, description='Slice', max=220)"
      ]
     },
     "metadata": {},
     "output_type": "display_data"
    }
   ],
   "source": [
    "case = 'A003'\n",
    "figure, slider = plot3d(data_path, case)\n",
    "slider"
   ]
  },
  {
   "cell_type": "markdown",
   "metadata": {},
   "source": [
    "### Visualize mesh"
   ]
  },
  {
   "cell_type": "code",
   "execution_count": 11,
   "metadata": {},
   "outputs": [],
   "source": [
    "import pyvista as pv"
   ]
  },
  {
   "cell_type": "code",
   "execution_count": 12,
   "metadata": {
    "collapsed": true,
    "jupyter": {
     "outputs_hidden": true
    }
   },
   "outputs": [
    {
     "data": {
      "application/vnd.jupyter.widget-view+json": {
       "model_id": "0ce412be7fd244a5b70097c8aecea4f8",
       "version_major": 2,
       "version_minor": 0
      },
      "text/plain": [
       "Viewer(geometries=[{'vtkClass': 'vtkPolyData', 'points': {'vtkClass': 'vtkPoints', 'name': '_points', 'numberO…"
      ]
     },
     "metadata": {},
     "output_type": "display_data"
    },
    {
     "data": {
      "application/vnd.jupyter.widget-view+json": {
       "model_id": "0ce412be7fd244a5b70097c8aecea4f8",
       "version_major": 2,
       "version_minor": 0
      },
      "text/plain": [
       "Viewer(geometries=[{'vtkClass': 'vtkPolyData', 'points': {'vtkClass': 'vtkPoints', 'name': '_points', 'numberO…"
      ]
     },
     "metadata": {},
     "output_type": "display_data"
    }
   ],
   "source": [
    "# create a mesh and identify some scalars you wish to plot\n",
    "mesh = pv.read(data_path / '{}.stl'.format(case))\n",
    "z = mesh.points[:, 2]\n",
    "\n",
    "# Plot using the ITKplotter\n",
    "pl = pv.PlotterITK()\n",
    "pl.add_mesh(mesh, smooth_shading=True)\n",
    "pl.show(True)"
   ]
  },
  {
   "cell_type": "code",
   "execution_count": 13,
   "metadata": {},
   "outputs": [
    {
     "data": {
      "application/vnd.jupyter.widget-view+json": {
       "model_id": "92a2da014a474a08af0d7e6c9d359c3e",
       "version_major": 2,
       "version_minor": 0
      },
      "text/plain": [
       "Viewer(geometries=[{'vtkClass': 'vtkPolyData', 'points': {'vtkClass': 'vtkPoints', 'name': '_points', 'numberO…"
      ]
     },
     "metadata": {},
     "output_type": "display_data"
    },
    {
     "data": {
      "application/vnd.jupyter.widget-view+json": {
       "model_id": "92a2da014a474a08af0d7e6c9d359c3e",
       "version_major": 2,
       "version_minor": 0
      },
      "text/plain": [
       "Viewer(geometries=[{'vtkClass': 'vtkPolyData', 'points': {'vtkClass': 'vtkPoints', 'name': '_points', 'numberO…"
      ]
     },
     "metadata": {},
     "output_type": "display_data"
    }
   ],
   "source": [
    "# create a mesh and identify some scalars you wish to plot\n",
    "mesh = pv.read(data_path / '{}_vessel.stl'.format(case))\n",
    "z = mesh.points[:, 2]\n",
    "\n",
    "# Plot using the ITKplotter\n",
    "pl = pv.PlotterITK()\n",
    "pl.add_mesh(mesh, smooth_shading=True)\n",
    "pl.show(True)"
   ]
  },
  {
   "cell_type": "markdown",
   "metadata": {},
   "source": [
    "### Dataset + dataloader"
   ]
  },
  {
   "cell_type": "code",
   "execution_count": 14,
   "metadata": {},
   "outputs": [],
   "source": [
    "import torch\n",
    "from torch.utils.data import Dataset, DataLoader"
   ]
  },
  {
   "cell_type": "code",
   "execution_count": 15,
   "metadata": {},
   "outputs": [],
   "source": [
    "class AeurysmDataset(Dataset):\n",
    "    \"\"\"Aneurysm dataset.\"\"\"\n",
    "\n",
    "    def __init__(self, data_path, cases, transform=None, image_size=(256, 256, 220)):\n",
    "        \n",
    "        self.data_path = data_path\n",
    "        self.cases = cases\n",
    "        self.transform = transform\n",
    "        self.image_size = image_size\n",
    "\n",
    "    def __len__(self):\n",
    "        return len(self.cases)\n",
    "    \n",
    "    def __load_image(self, case):\n",
    "        # load NIFTI image\n",
    "        image_nib = nib.load(self.data_path / '{}_orig.nii.gz'.format(case))\n",
    "        return image_nib.get_fdata()\n",
    "        \n",
    "    def __load_mask(self, case):\n",
    "        # load NIFTI mask\n",
    "        mask_nib = nib.load(self.data_path / '{}_masks.nii.gz'.format(case))\n",
    "        return mask_nib.get_fdata()\n",
    "\n",
    "    def __getitem__(self, idx):\n",
    "        \n",
    "        # load image and ground-truth\n",
    "        case = self.cases[idx]\n",
    "        image = self.__load_image(case)[:self.image_size[0], :self.image_size[1], :self.image_size[2]]\n",
    "        mask = self.__load_mask(case)[:self.image_size[0], :self.image_size[1], :self.image_size[2]]\n",
    "        \n",
    "        # data augmentation\n",
    "        sample = {'image': image, 'mask': mask}\n",
    "        if self.transform:\n",
    "            sample = self.transform(sample)\n",
    "        \n",
    "        return sample['image'], sample['mask']"
   ]
  },
  {
   "cell_type": "code",
   "execution_count": 16,
   "metadata": {},
   "outputs": [],
   "source": [
    "# get case names\n",
    "cases = list(map(lambda file: '_'.join(file.parts[-1].split('_')[:-1]), data_path.glob('*_orig.nii.gz')))\n",
    "\n",
    "# create dataset + dataloader\n",
    "aneurysm_dataset = AeurysmDataset(data_path, cases[:10])\n",
    "dataloader = DataLoader(\n",
    "    aneurysm_dataset, \n",
    "    batch_size=2,\n",
    "    shuffle=True, \n",
    "    num_workers=0\n",
    ")"
   ]
  },
  {
   "cell_type": "markdown",
   "metadata": {},
   "source": [
    "### Model"
   ]
  },
  {
   "cell_type": "code",
   "execution_count": 17,
   "metadata": {},
   "outputs": [],
   "source": [
    "from torch import nn\n",
    "from torch.optim import Adam\n",
    "from torch.nn import CrossEntropyLoss, BCELoss\n",
    "\n",
    "#\n",
    "from tqdm.notebook import tqdm, trange"
   ]
  },
  {
   "cell_type": "code",
   "execution_count": 18,
   "metadata": {},
   "outputs": [],
   "source": [
    "class SimpleCNN(nn.Module):\n",
    "    def __init__(self, in_channels=1, out_channels=1):\n",
    "        super().__init__()\n",
    "\n",
    "        self.conv1 = nn.Sequential(\n",
    "            torch.nn.Conv2d(in_channels, out_channels, kernel_size=3, padding=1),\n",
    "            torch.nn.Sigmoid(),\n",
    "        )\n",
    "\n",
    "    def __call__(self, x):\n",
    "        return self.conv1(x)"
   ]
  },
  {
   "cell_type": "code",
   "execution_count": 19,
   "metadata": {},
   "outputs": [],
   "source": [
    "# create a simple cnn instance\n",
    "model = SimpleCNN().cuda()\n",
    "\n",
    "# create Adam optimizer with standard parameters\n",
    "optimizer = Adam(params=model.parameters())\n",
    "\n",
    "# binary cross entropy loss\n",
    "loss_fx = BCELoss()"
   ]
  },
  {
   "cell_type": "code",
   "execution_count": 20,
   "metadata": {},
   "outputs": [
    {
     "data": {
      "application/vnd.jupyter.widget-view+json": {
       "model_id": "231c6b9540974ea3b5258d1e6a3d3103",
       "version_major": 2,
       "version_minor": 0
      },
      "text/plain": [
       "  0%|          | 0/10 [00:00<?, ?it/s]"
      ]
     },
     "metadata": {},
     "output_type": "display_data"
    }
   ],
   "source": [
    "epochs = 10\n",
    "losses = []\n",
    "for epoch in trange(epochs):\n",
    "    \n",
    "    # iterate dataloader\n",
    "    epoch_loss = []\n",
    "    for image, mask in dataloader:\n",
    "    \n",
    "        #\n",
    "        _, h, w, _ = image.shape\n",
    "        image_slices = image.permute(0, 3, 1, 2).reshape(-1, h, w).float().cuda()\n",
    "        image_slices = torch.unsqueeze(image_slices, axis=1)\n",
    "        mask_slices = mask.permute(0, 3, 1, 2).reshape(-1, h, w).float().cuda()\n",
    "        \n",
    "        # reset gradient\n",
    "        optimizer.zero_grad()\n",
    "        \n",
    "        # pass input through model\n",
    "        output = model(image_slices)\n",
    "        output = torch.squeeze(output)\n",
    "        \n",
    "        # calculate loss\n",
    "        loss = loss_fx(output, mask_slices)\n",
    "        epoch_loss.append(loss.detach().item())\n",
    "        \n",
    "        # back-propagation\n",
    "        loss.backward()\n",
    "        optimizer.step()\n",
    "        \n",
    "    #\n",
    "    losses.append(np.mean(epoch_loss))"
   ]
  },
  {
   "cell_type": "code",
   "execution_count": 21,
   "metadata": {},
   "outputs": [
    {
     "data": {
      "application/vnd.jupyter.widget-view+json": {
       "model_id": "39a4ac0f2c9a4aeba3ad2fc63a933d30",
       "version_major": 2,
       "version_minor": 0
      },
      "text/plain": [
       "Canvas(toolbar=Toolbar(toolitems=[('Home', 'Reset original view', 'home', 'home'), ('Back', 'Back to previous …"
      ]
     },
     "metadata": {},
     "output_type": "display_data"
    },
    {
     "data": {
      "text/plain": [
       "[<matplotlib.lines.Line2D at 0x7f33ef874550>]"
      ]
     },
     "execution_count": 21,
     "metadata": {},
     "output_type": "execute_result"
    }
   ],
   "source": [
    "fig = plt.figure()\n",
    "\n",
    "#\n",
    "plt.xlabel('Epochs')\n",
    "plt.ylabel('Loss')\n",
    "plt.plot(losses)"
   ]
  },
  {
   "cell_type": "markdown",
   "metadata": {},
   "source": [
    "### View model predictions"
   ]
  },
  {
   "cell_type": "code",
   "execution_count": null,
   "metadata": {},
   "outputs": [],
   "source": [
    "# get first batch from dataloader\n",
    "image, mask = next(iter(dataloader))\n",
    "\n",
    "# transpose data\n",
    "_, h, w, _ = image.shape\n",
    "image_slices = image.permute(0, 3, 1, 2).reshape(-1, h, w).float()\n",
    "image_slices = torch.unsqueeze(image_slices, axis=1)\n",
    "mask_slices = mask.permute(0, 3, 1, 2).reshape(-1, h, w).float()\n",
    "\n",
    "# model prediction\n",
    "with torch.no_grad():\n",
    "    outputs = model(image_slices.cuda())\n",
    "    outputs = torch.squeeze(outputs)\n",
    "    \n",
    "# convert to numpy\n",
    "image_np = torch.squeeze(image_slices).numpy()\n",
    "ground_truth_np = mask_slices.numpy()\n",
    "prediction_np = outputs.cpu().numpy()"
   ]
  },
  {
   "cell_type": "code",
   "execution_count": null,
   "metadata": {},
   "outputs": [],
   "source": [
    "# TODO: visualize predictions"
   ]
  }
 ],
 "metadata": {
  "kernelspec": {
   "display_name": "Exploration Tutorial",
   "language": "python",
   "name": "exploration-tutorial"
  },
  "language_info": {
   "codemirror_mode": {
    "name": "ipython",
    "version": 3
   },
   "file_extension": ".py",
   "mimetype": "text/x-python",
   "name": "python",
   "nbconvert_exporter": "python",
   "pygments_lexer": "ipython3",
   "version": "3.6.9"
  }
 },
 "nbformat": 4,
 "nbformat_minor": 4
}

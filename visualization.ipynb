{
 "cells": [
  {
   "cell_type": "code",
   "execution_count": 1,
   "metadata": {},
   "outputs": [],
   "source": [
    "%matplotlib widget"
   ]
  },
  {
   "cell_type": "code",
   "execution_count": 2,
   "metadata": {
    "tags": []
   },
   "outputs": [],
   "source": [
    "import os\n",
    "from pathlib import Path\n",
    "\n",
    "import numpy as np\n",
    "from ipywidgets import widgets\n",
    "import matplotlib.pyplot as plt\n",
    "\n",
    "import nibabel as nib"
   ]
  },
  {
   "cell_type": "markdown",
   "metadata": {},
   "source": [
    "## Outline\n",
    "\n",
    "1. Loading data with [nibabel](https://nipy.org/nibabel/gettingstarted.html)\n",
    "2. Visualizing image data with [matplotlib](https://matplotlib.org/)\n",
    "3. Visualizing mesh with [pyvista](https://docs.pyvista.org/)\n",
    "4. Dataloader with [pytorch](https://pytorch.org/)\n",
    "5. Simple CNN with [pytorch](https://pytorch.org/)"
   ]
  },
  {
   "cell_type": "markdown",
   "metadata": {},
   "source": [
    "## Load data"
   ]
  },
  {
   "cell_type": "code",
   "execution_count": 3,
   "metadata": {},
   "outputs": [],
   "source": [
    "data_path = Path('data/training')"
   ]
  },
  {
   "cell_type": "code",
   "execution_count": 4,
   "metadata": {},
   "outputs": [],
   "source": [
    "files = list(data_path.glob('*.*'))\n",
    "files_orig = list(filter(lambda file: 'orig.nii.gz' in str(file), files))\n",
    "files_masks = list(filter(lambda file: 'masks.nii.gz' in str(file), files))\n",
    "files_labeled = list(filter(lambda file: 'labeledMasks.nii.gz' in str(file), files))"
   ]
  },
  {
   "cell_type": "markdown",
   "metadata": {},
   "source": [
    "### Nibabel"
   ]
  },
  {
   "cell_type": "code",
   "execution_count": 5,
   "metadata": {},
   "outputs": [],
   "source": [
    "# load NIFTI image\n",
    "image = nib.load(data_path / 'A003_orig.nii.gz')"
   ]
  },
  {
   "cell_type": "code",
   "execution_count": 7,
   "metadata": {},
   "outputs": [
    {
     "data": {
      "text/plain": [
       "array([[ -0.27158001,   0.        ,   0.        ,  25.99900818],\n",
       "       [  0.        ,  -0.27158001,   0.        ,  37.3360405 ],\n",
       "       [  0.        ,   0.        ,   0.2691111 , -55.11883545],\n",
       "       [  0.        ,   0.        ,   0.        ,   1.        ]])"
      ]
     },
     "execution_count": 7,
     "metadata": {},
     "output_type": "execute_result"
    }
   ],
   "source": [
    "# voxel to world matrix\n",
    "affine = image.affine\n",
    "\n",
    "# TODO: calculate inverse affine matrix\n",
    "# inverse_affine = calculate_inverse_affine(affine)\n",
    "\n",
    "affine_inv = np.linalg.inv(affine)\n",
    "\n",
    "#\n",
    "affine\n",
    "# affine_inv"
   ]
  },
  {
   "cell_type": "code",
   "execution_count": null,
   "metadata": {},
   "outputs": [],
   "source": [
    "# NIFTI header\n",
    "header = image.header\n",
    "header.get_xyzt_units()"
   ]
  },
  {
   "cell_type": "code",
   "execution_count": null,
   "metadata": {},
   "outputs": [],
   "source": [
    "# nibabel NIFIT image to numpy\n",
    "image_np = image.get_fdata()"
   ]
  },
  {
   "cell_type": "code",
   "execution_count": null,
   "metadata": {},
   "outputs": [],
   "source": [
    "def get_predictions(data_path, case):\n",
    "    \"\"\"\n",
    "    Loads the HDF5 file and returns the data\n",
    "    \"\"\"\n",
    "    import h5py\n",
    "\n",
    "    with h5py.File(data_path / \"{}_predictions.h5\".format(case), \"r\") as f:\n",
    "        return f[\"predictions\"][:]"
   ]
  },
  {
   "cell_type": "markdown",
   "metadata": {},
   "source": [
    "### Visualization"
   ]
  },
  {
   "cell_type": "code",
   "execution_count": null,
   "metadata": {},
   "outputs": [],
   "source": [
    "def mask_overlay(image, mask, color=(0., 1., 0.), weight=.5):\n",
    "    \"\"\"\n",
    "    Helper function to visualize mask on the top of the aneurysm\n",
    "    \"\"\"\n",
    "    mask = np.dstack((mask, mask, mask)) * np.array(color)\n",
    "    mask = mask.astype(np.uint8)\n",
    "    weighted_sum = image * weight + mask * (1 - weight) # cv2.addWeighted(image, 1 - weight, mask, weight, 0.,  dtype=cv2.CV_32F)\n",
    "    img = image.copy()\n",
    "    ind = mask[:, :, 1] > 0    \n",
    "    img[ind] = weighted_sum[ind]    \n",
    "    return img\n",
    "\n",
    "\n",
    "class ImageSlicer(object):\n",
    "    \n",
    "    def __init__(self, ax, data_path, case, vis_pred=False):\n",
    "        self.ax = ax\n",
    "        \n",
    "        # load NIFTI image & mask\n",
    "        self.image_nib = nib.load(data_path / '{}_orig.nii.gz'.format(case))\n",
    "        # convert to numpy array\n",
    "        self.image_np = self.image_nib.get_fdata()\n",
    "        if not vis_pred:\n",
    "            self.mask_nib = nib.load(data_path / '{}_masks.nii.gz'.format(case))\n",
    "            self.mask_np = self.mask_nib.get_fdata()\n",
    "        else: \n",
    "            pred_path = Path(os.path.join(os.getcwd(), \"data\", \"predictions\", \"iteration4\"))\n",
    "            pred = get_predictions(pred_path, case)\n",
    "            self.mask_np = np.squeeze(pred, axis=0)\n",
    "            if self.mask_np.shape == (220, 256, 256):\n",
    "                # reshape ds from z, x, y to x, y, z\n",
    "                self.mask_np = np.moveaxis(self.mask_np, 0, -1)\n",
    "            self.mask_np[self.mask_np > 0.8] = 1\n",
    "            self.mask_np[self.mask_np <= 0.8] = 0\n",
    "\n",
    "        # get number of slices\n",
    "        _, _, self.slices = self.image_np.shape\n",
    "        self.ind = self.slices // 2\n",
    "\n",
    "        # plot image with mask overlay\n",
    "        self.image_plt = self.ax.imshow(self.overlay)\n",
    "        self._draw()\n",
    "        \n",
    "    @property\n",
    "    def overlay(self):\n",
    "        \n",
    "        # get image and mask slice\n",
    "        image = self.image_np[:, :, self.ind]\n",
    "        image = image / np.max(image)\n",
    "        image = np.dstack((image, image, image))\n",
    "        mask = self.mask_np[:, :, self.ind]\n",
    "        \n",
    "        # create masked overlay\n",
    "        return mask_overlay(image, mask)\n",
    "\n",
    "    def onscroll(self, event):\n",
    "        \n",
    "        # get new slice number\n",
    "        self.ind = event['new']\n",
    "        self.update()\n",
    "\n",
    "    def update(self):\n",
    "        \n",
    "        # draw overlay\n",
    "        self.image_plt.set_data(self.overlay)\n",
    "        self._draw()\n",
    "        \n",
    "    def _draw(self):\n",
    "        self.image_plt.axes.figure.canvas.draw()\n",
    "\n",
    "\n",
    "def plot3d(data_path, case, vis_pred=False):\n",
    "    \n",
    "    #\n",
    "    figure, ax = plt.subplots(1, 1)\n",
    "    ax.set_title(case)\n",
    "    tracker = ImageSlicer(ax, data_path, case, vis_pred)\n",
    "    \n",
    "    #\n",
    "    int_slider = widgets.IntSlider(\n",
    "        value=tracker.ind, \n",
    "        min=0, \n",
    "        max=tracker.slices, \n",
    "        step=1,\n",
    "        description='Slice',\n",
    "        continuous_update=True\n",
    "    )\n",
    "    int_slider.observe(tracker.onscroll, 'value')\n",
    "    \n",
    "    return figure, int_slider\n",
    "\n",
    "def plot3d_whole(data_path, case, iteration=1, mode=\"p\", threshold=0.5):\n",
    "    \n",
    "    # load NIFTI image & mask\n",
    "    if mode != \"p\":\n",
    "        image_nib = nib.load(data_path / '{}_orig.nii.gz'.format(case))\n",
    "        # convert to numpy array\n",
    "        image_np = image_nib.get_fdata()\n",
    "    if mode == \"l\":\n",
    "        mask_nib = nib.load(data_path / '{}_masks.nii.gz'.format(case))\n",
    "        mask_np = mask_nib.get_fdata()\n",
    "    elif mode == \"p\": \n",
    "        pred_path = Path(os.path.join(os.getcwd(), \"data\", \"predictions\", \"exam\", \"iteration\" + str(iteration)))\n",
    "        pred = get_predictions(pred_path, case)\n",
    "        mask_np = np.squeeze(pred, axis=0)\n",
    "        if mask_np.shape == (220, 256, 256):\n",
    "            # reshape ds from z, x, y to x, y, z\n",
    "            mask_np = np.moveaxis(mask_np, 0, -1)\n",
    "        mask_np[mask_np > threshold] = 1\n",
    "        mask_np[mask_np <= threshold] = 0\n",
    "    elif mode == \"lp\":\n",
    "        mask_nib = nib.load(data_path / '{}_masks.nii.gz'.format(case))\n",
    "        mask_l_np = mask_nib.get_fdata()\n",
    "\n",
    "        pred_path = Path(os.path.join(os.getcwd(), \"data\", \"predictions\", \"iteration\" + str(iteration)))\n",
    "        pred = get_predictions(pred_path, case)\n",
    "        mask_p_np = np.squeeze(pred, axis=0)\n",
    "        if mask_p_np.shape == (220, 256, 256):\n",
    "            # reshape ds from z, x, y to x, y, z\n",
    "            mask_p_np = np.moveaxis(mask_p_np, 0, -1)\n",
    "        mask_p_np[mask_p_np > threshold] = 1\n",
    "        mask_p_np[mask_p_np <= threshold] = 0\n",
    "\n",
    "        fig = plt.figure(figsize=(5, 5))\n",
    "        ax = fig.add_subplot(111, projection='3d')\n",
    "\n",
    "        pos_l = np.where(mask_l_np==1)\n",
    "        pos_p = np.where(mask_p_np==1)\n",
    "        ax.scatter(pos_l[0], pos_l[1], pos_l[2], c='green', alpha=0.1)\n",
    "        ax.scatter(pos_p[0], pos_p[1], pos_p[2], c='blue', alpha=0.1)\n",
    "        plt.show()\n",
    "        return\n",
    "    \n",
    "\n",
    "    fig = plt.figure(figsize=(5, 5))\n",
    "    ax = fig.add_subplot(111, projection='3d')\n",
    "\n",
    "    print(mask_np.shape)\n",
    "    pos = np.where(mask_np==1)\n",
    "    ax.scatter(pos[0], pos[1], pos[2], c='black', alpha=0.5)\n",
    "    plt.show()\n"
   ]
  },
  {
   "cell_type": "code",
   "execution_count": null,
   "metadata": {},
   "outputs": [],
   "source": [
    "iteration = 5\n",
    "case = 'A104' # 'A120' 'A121' 'A123' 'A124' 'A126' 'A127' 'A129'\n",
    "mode = \"p\" # \"l\" (label) or \"p\" (prediction) or \"lp\" (both)\n",
    "threshold = 0.8\n",
    "plot3d_whole(data_path, case, iteration=iteration, mode=mode, threshold=threshold)"
   ]
  },
  {
   "cell_type": "code",
   "execution_count": null,
   "metadata": {},
   "outputs": [],
   "source": [
    "case = 'A127'\n",
    "figure, slider = plot3d(data_path, case, vis_pred=False)\n",
    "slider"
   ]
  },
  {
   "cell_type": "markdown",
   "metadata": {},
   "source": [
    "### Visualize mesh"
   ]
  },
  {
   "cell_type": "code",
   "execution_count": null,
   "metadata": {},
   "outputs": [],
   "source": [
    "import pyvista as pv"
   ]
  },
  {
   "cell_type": "code",
   "execution_count": null,
   "metadata": {
    "collapsed": true,
    "jupyter": {
     "outputs_hidden": true
    }
   },
   "outputs": [],
   "source": [
    "# create a mesh and identify some scalars you wish to plot\n",
    "mesh = pv.read(data_path / '{}.stl'.format(case))\n",
    "z = mesh.points[:, 2]\n",
    "\n",
    "# Plot using the ITKplotter\n",
    "pl = pv.PlotterITK()\n",
    "pl.add_mesh(mesh, smooth_shading=True)\n",
    "pl.show(True)"
   ]
  },
  {
   "cell_type": "code",
   "execution_count": null,
   "metadata": {},
   "outputs": [],
   "source": [
    "# create a mesh and identify some scalars you wish to plot\n",
    "mesh = pv.read(data_path / '{}_vessel.stl'.format(case))\n",
    "z = mesh.points[:, 2]\n",
    "\n",
    "# Plot using the ITKplotter\n",
    "pl = pv.PlotterITK()\n",
    "pl.add_mesh(mesh, smooth_shading=True)\n",
    "pl.show(True)"
   ]
  },
  {
   "cell_type": "markdown",
   "metadata": {},
   "source": [
    "### Dataset + dataloader"
   ]
  },
  {
   "cell_type": "code",
   "execution_count": null,
   "metadata": {},
   "outputs": [],
   "source": [
    "import torch\n",
    "from torch.utils.data import Dataset, DataLoader"
   ]
  },
  {
   "cell_type": "code",
   "execution_count": null,
   "metadata": {},
   "outputs": [],
   "source": [
    "class AeurysmDataset(Dataset):\n",
    "    \"\"\"Aneurysm dataset.\"\"\"\n",
    "\n",
    "    def __init__(self, data_path, cases, transform=None, image_size=(256, 256, 220)):\n",
    "        \n",
    "        self.data_path = data_path\n",
    "        self.cases = cases\n",
    "        self.transform = transform\n",
    "        self.image_size = image_size\n",
    "\n",
    "    def __len__(self):\n",
    "        return len(self.cases)\n",
    "    \n",
    "    def __load_image(self, case):\n",
    "        # load NIFTI image\n",
    "        image_nib = nib.load(self.data_path / '{}_orig.nii.gz'.format(case))\n",
    "        return image_nib.get_fdata()\n",
    "        \n",
    "    def __load_mask(self, case):\n",
    "        # load NIFTI mask\n",
    "        mask_nib = nib.load(self.data_path / '{}_masks.nii.gz'.format(case))\n",
    "        return mask_nib.get_fdata()\n",
    "\n",
    "    def __getitem__(self, idx):\n",
    "        \n",
    "        # load image and ground-truth\n",
    "        case = self.cases[idx]\n",
    "        image = self.__load_image(case)[:self.image_size[0], :self.image_size[1], :self.image_size[2]]\n",
    "        mask = self.__load_mask(case)[:self.image_size[0], :self.image_size[1], :self.image_size[2]]\n",
    "        \n",
    "        # data augmentation\n",
    "        sample = {'image': image, 'mask': mask}\n",
    "        if self.transform:\n",
    "            sample = self.transform(sample)\n",
    "        \n",
    "        return sample['image'], sample['mask']"
   ]
  },
  {
   "cell_type": "code",
   "execution_count": null,
   "metadata": {},
   "outputs": [],
   "source": [
    "# get case names\n",
    "cases = list(map(lambda file: '_'.join(file.parts[-1].split('_')[:-1]), data_path.glob('*_orig.nii.gz')))\n",
    "\n",
    "# create dataset + dataloader\n",
    "aneurysm_dataset = AeurysmDataset(data_path, cases[:10])\n",
    "dataloader = DataLoader(\n",
    "    aneurysm_dataset, \n",
    "    batch_size=2,\n",
    "    shuffle=True, \n",
    "    num_workers=0\n",
    ")"
   ]
  },
  {
   "cell_type": "markdown",
   "metadata": {},
   "source": [
    "### Model"
   ]
  },
  {
   "cell_type": "code",
   "execution_count": null,
   "metadata": {},
   "outputs": [],
   "source": [
    "from torch import nn\n",
    "from torch.optim import Adam\n",
    "from torch.nn import CrossEntropyLoss, BCELoss\n",
    "\n",
    "#\n",
    "from tqdm.notebook import tqdm, trange"
   ]
  },
  {
   "cell_type": "code",
   "execution_count": null,
   "metadata": {},
   "outputs": [],
   "source": [
    "class SimpleCNN(nn.Module):\n",
    "    def __init__(self, in_channels=1, out_channels=1):\n",
    "        super().__init__()\n",
    "\n",
    "        self.conv1 = nn.Sequential(\n",
    "            torch.nn.Conv2d(in_channels, out_channels, kernel_size=3, padding=1),\n",
    "            torch.nn.Sigmoid(),\n",
    "        )\n",
    "\n",
    "    def __call__(self, x):\n",
    "        return self.conv1(x)"
   ]
  },
  {
   "cell_type": "code",
   "execution_count": null,
   "metadata": {},
   "outputs": [],
   "source": [
    "# create a simple cnn instance\n",
    "model = SimpleCNN().cuda()\n",
    "\n",
    "# create Adam optimizer with standard parameters\n",
    "optimizer = Adam(params=model.parameters())\n",
    "\n",
    "# binary cross entropy loss\n",
    "loss_fx = BCELoss()"
   ]
  },
  {
   "cell_type": "code",
   "execution_count": null,
   "metadata": {},
   "outputs": [],
   "source": [
    "epochs = 10\n",
    "losses = []\n",
    "for epoch in trange(epochs):\n",
    "    \n",
    "    # iterate dataloader\n",
    "    epoch_loss = []\n",
    "    for image, mask in dataloader:\n",
    "    \n",
    "        #\n",
    "        _, h, w, _ = image.shape\n",
    "        image_slices = image.permute(0, 3, 1, 2).reshape(-1, h, w).float().cuda()\n",
    "        image_slices = torch.unsqueeze(image_slices, axis=1)\n",
    "        mask_slices = mask.permute(0, 3, 1, 2).reshape(-1, h, w).float().cuda()\n",
    "        \n",
    "        # reset gradient\n",
    "        optimizer.zero_grad()\n",
    "        \n",
    "        # pass input through model\n",
    "        output = model(image_slices)\n",
    "        output = torch.squeeze(output)\n",
    "        \n",
    "        # calculate loss\n",
    "        loss = loss_fx(output, mask_slices)\n",
    "        epoch_loss.append(loss.detach().item())\n",
    "        \n",
    "        # back-propagation\n",
    "        loss.backward()\n",
    "        optimizer.step()\n",
    "        \n",
    "    #\n",
    "    losses.append(np.mean(epoch_loss))"
   ]
  },
  {
   "cell_type": "code",
   "execution_count": null,
   "metadata": {},
   "outputs": [],
   "source": [
    "fig = plt.figure()\n",
    "\n",
    "#\n",
    "plt.xlabel('Epochs')\n",
    "plt.ylabel('Loss')\n",
    "plt.plot(losses)"
   ]
  },
  {
   "cell_type": "markdown",
   "metadata": {},
   "source": [
    "### View model predictions"
   ]
  },
  {
   "cell_type": "code",
   "execution_count": null,
   "metadata": {},
   "outputs": [],
   "source": [
    "# get first batch from dataloader\n",
    "image, mask = next(iter(dataloader))\n",
    "\n",
    "# transpose data\n",
    "_, h, w, _ = image.shape\n",
    "image_slices = image.permute(0, 3, 1, 2).reshape(-1, h, w).float()\n",
    "image_slices = torch.unsqueeze(image_slices, axis=1)\n",
    "mask_slices = mask.permute(0, 3, 1, 2).reshape(-1, h, w).float()\n",
    "\n",
    "# model prediction\n",
    "with torch.no_grad():\n",
    "    outputs = model(image_slices.cuda())\n",
    "    outputs = torch.squeeze(outputs)\n",
    "    \n",
    "# convert to numpy\n",
    "image_np = torch.squeeze(image_slices).numpy()\n",
    "ground_truth_np = mask_slices.numpy()\n",
    "prediction_np = outputs.cpu().numpy()"
   ]
  },
  {
   "cell_type": "code",
   "execution_count": null,
   "metadata": {},
   "outputs": [],
   "source": [
    "# TODO: visualize predictions"
   ]
  }
 ],
 "metadata": {
  "kernelspec": {
   "display_name": "Python 3.8.8 ('aneurysm-detection-2S7O2JAu-py3.8')",
   "language": "python",
   "name": "python3"
  },
  "language_info": {
   "codemirror_mode": {
    "name": "ipython",
    "version": 3
   },
   "file_extension": ".py",
   "mimetype": "text/x-python",
   "name": "python",
   "nbconvert_exporter": "python",
   "pygments_lexer": "ipython3",
   "version": "3.8.8"
  },
  "vscode": {
   "interpreter": {
    "hash": "db9401a29b1b0413475aeaadf186aa79e65d46eb9e31ec59868a225dc631eb99"
   }
  }
 },
 "nbformat": 4,
 "nbformat_minor": 4
}

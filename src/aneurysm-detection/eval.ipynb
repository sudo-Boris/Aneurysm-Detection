{
 "cells": [
  {
   "cell_type": "code",
   "execution_count": 1,
   "metadata": {},
   "outputs": [],
   "source": [
    "import numpy as np\n",
    "import torch\n",
    "import h5py\n",
    "import nibabel as nib\n",
    "from pathlib import Path\n",
    "import sys\n",
    "import os"
   ]
  },
  {
   "cell_type": "code",
   "execution_count": 2,
   "metadata": {},
   "outputs": [],
   "source": [
    "def get_predictions(data_path, threshold=0.8):\n",
    "    \"\"\"\n",
    "    Loads the HDF5 file and returns the data\n",
    "    \"\"\"\n",
    "\n",
    "    with h5py.File(data_path, \"r\") as f:\n",
    "        pred = f[\"predictions\"][:]\n",
    "    mask_p_np = np.squeeze(pred, axis=0)\n",
    "    if mask_p_np.shape == (220, 256, 256):\n",
    "        # reshape ds from z, x, y to x, y, z\n",
    "        mask_p_np = np.moveaxis(mask_p_np, 0, -1)\n",
    "    mask_p_np[mask_p_np > threshold] = 1\n",
    "    mask_p_np[mask_p_np <= threshold] = 0\n",
    "\n",
    "    return mask_p_np\n",
    "    "
   ]
  },
  {
   "cell_type": "code",
   "execution_count": 3,
   "metadata": {},
   "outputs": [],
   "source": [
    "def get_mask(data_path):\n",
    "    \"\"\"\n",
    "    Loads the nifty file and returns the mask of a case\n",
    "    \"\"\"\n",
    "\n",
    "    mask = nib.load(data_path)\n",
    "    return mask.get_fdata()"
   ]
  },
  {
   "cell_type": "code",
   "execution_count": 4,
   "metadata": {},
   "outputs": [],
   "source": [
    "pred_path = os.path.join(os.getcwd(), os.pardir, os.pardir , \"data\", \"predictions\")\n",
    "mask_path = os.path.join(os.getcwd(), os.pardir, os.pardir , \"data\", \"training\")"
   ]
  },
  {
   "cell_type": "code",
   "execution_count": 5,
   "metadata": {},
   "outputs": [],
   "source": [
    "def eval_DiceScore(pred, mask):\n",
    "    \"\"\"\n",
    "    Computes the Dice score for a given prediction and mask\n",
    "    \"\"\"\n",
    "\n",
    "    pred = pred.flatten()\n",
    "    mask = mask.flatten()\n",
    "\n",
    "    intersection = np.sum(pred * mask)\n",
    "    union = np.sum(pred) + np.sum(mask)\n",
    "\n",
    "    return 2 * intersection / union\n",
    "\n",
    "def jaccard(pred, mask):\n",
    "    \"\"\"\n",
    "    Computes the Jaccard score for a given prediction and mask\n",
    "    \"\"\"\n",
    "\n",
    "    pred = pred.flatten()\n",
    "    mask = mask.flatten()\n",
    "\n",
    "    intersection = np.sum(pred * mask)\n",
    "    union = np.sum(pred) + np.sum(mask) - intersection\n",
    "\n",
    "    return intersection / union"
   ]
  },
  {
   "cell_type": "markdown",
   "metadata": {},
   "source": [
    "Eval for one case"
   ]
  },
  {
   "cell_type": "code",
   "execution_count": 41,
   "metadata": {},
   "outputs": [
    {
     "name": "stdout",
     "output_type": "stream",
     "text": [
      "Dice: 0.303194025107262\n",
      "Jaccard: 0.17868514703127927\n"
     ]
    }
   ],
   "source": [
    "iteration = 5\n",
    "case = 'A123'\n",
    "threshold = 0.9\n",
    "\n",
    "pred_file = os.path.join(pred_path, \"iteration{}\".format(iteration), \"{}_predictions.h5\".format(case))\n",
    "mask_file = os.path.join(mask_path, \"{}_masks.nii.gz\".format(case))\n",
    "pred = get_predictions(pred_file, threshold=threshold)\n",
    "mask = get_mask(mask_file)\n",
    "print(\"Dice: \" + str(eval_DiceScore(pred, mask)))\n",
    "print(\"Jaccard: \" + str(jaccard(pred, mask)))"
   ]
  },
  {
   "cell_type": "markdown",
   "metadata": {},
   "source": [
    "Eval for batch of data"
   ]
  },
  {
   "cell_type": "code",
   "execution_count": 7,
   "metadata": {},
   "outputs": [],
   "source": [
    "def batch_eval(iteration, cases, threshold_batch):\n",
    "    pred_path_batch = os.path.join(os.getcwd(), os.pardir, os.pardir , \"data\", \"predictions\", \"iteration{}\".format(iteration))\n",
    "    masks_path_batch = os.path.join(os.getcwd(), os.pardir, os.pardir , \"data\", \"training\")\n",
    "\n",
    "    dice_scores = []\n",
    "    jaccard_scores = []\n",
    "\n",
    "    for case in cases:\n",
    "        pred_file = os.path.join(pred_path_batch, \"{}_predictions.h5\".format(case))\n",
    "        mask_file = os.path.join(masks_path_batch, \"{}_masks.nii.gz\".format(case))\n",
    "        pred = get_predictions(pred_file, threshold=threshold_batch)\n",
    "        mask = get_mask(mask_file)\n",
    "        dice_scores.append(eval_DiceScore(pred, mask))\n",
    "        jaccard_scores.append(jaccard(pred, mask))\n",
    "    \n",
    "    return np.mean(np.array(dice_scores)), np.mean(np.array(jaccard_scores))"
   ]
  },
  {
   "cell_type": "code",
   "execution_count": 13,
   "metadata": {},
   "outputs": [
    {
     "name": "stdout",
     "output_type": "stream",
     "text": [
      "Iteration 1: Dice: 0.0836364817591476, Jaccard: 0.04615310264186907\n",
      "-----------------------------------------------------\n",
      "Iteration 2: Dice: 0.1962750776426222, Jaccard: 0.16044437603430983\n",
      "-----------------------------------------------------\n",
      "Iteration 3: Dice: 0.17654826168365426, Jaccard: 0.12471289710410384\n",
      "-----------------------------------------------------\n",
      "Iteration 4: Dice: 0.34328095975232464, Jaccard: 0.2487248026364292\n",
      "-----------------------------------------------------\n",
      "Iteration 5: Dice: 0.3912009516321385, Jaccard: 0.3231492669687332\n",
      "-----------------------------------------------------\n",
      "Iteration 6: Dice: 0.3329559041059459, Jaccard: 0.28185493649561844\n",
      "-----------------------------------------------------\n"
     ]
    }
   ],
   "source": [
    "# Eval metrics over batch\n",
    "iteration_batch = 6\n",
    "threshold_batch = 0.80\n",
    "cases = ['A083', 'A084', 'A085', 'A086', 'A087', 'A088', 'A089_R', 'A091_R', 'A092', 'A093', 'A094_R', 'A095',\n",
    "        'A120', 'A121', 'A123', 'A124', 'A126', 'A127', 'A129'\n",
    "]\n",
    "\n",
    "for i in range(1, iteration_batch + 1):\n",
    "    dice, jaccard_score = batch_eval(i, cases, threshold_batch)\n",
    "    print(\"Iteration {}: Dice: {}, Jaccard: {}\".format(i, dice, jaccard_score))\n",
    "    print(\"-----------------------------------------------------\")\n"
   ]
  },
  {
   "cell_type": "code",
   "execution_count": null,
   "metadata": {},
   "outputs": [],
   "source": []
  }
 ],
 "metadata": {
  "kernelspec": {
   "display_name": "Python 3.8.8 ('aneurysm-detection-2S7O2JAu-py3.8')",
   "language": "python",
   "name": "python3"
  },
  "language_info": {
   "codemirror_mode": {
    "name": "ipython",
    "version": 3
   },
   "file_extension": ".py",
   "mimetype": "text/x-python",
   "name": "python",
   "nbconvert_exporter": "python",
   "pygments_lexer": "ipython3",
   "version": "3.8.8"
  },
  "orig_nbformat": 4,
  "vscode": {
   "interpreter": {
    "hash": "db9401a29b1b0413475aeaadf186aa79e65d46eb9e31ec59868a225dc631eb99"
   }
  }
 },
 "nbformat": 4,
 "nbformat_minor": 2
}

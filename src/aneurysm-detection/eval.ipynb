{
 "cells": [
  {
   "cell_type": "code",
   "execution_count": 13,
   "metadata": {},
   "outputs": [],
   "source": [
    "import numpy as np\n",
    "import torch\n",
    "import h5py\n",
    "import nibabel as nib\n",
    "from pathlib import Path\n",
    "import sys\n",
    "import os\n",
    "from scipy.spatial.distance import cdist "
   ]
  },
  {
   "cell_type": "code",
   "execution_count": 2,
   "metadata": {},
   "outputs": [],
   "source": [
    "def get_predictions(data_path, threshold=0.8):\n",
    "    \"\"\"\n",
    "    Loads the HDF5 file and returns the data\n",
    "    \"\"\"\n",
    "\n",
    "    with h5py.File(data_path, \"r\") as f:\n",
    "        pred = f[\"predictions\"][:]\n",
    "    mask_p_np = np.squeeze(pred, axis=0)\n",
    "    if mask_p_np.shape == (220, 256, 256):\n",
    "        # reshape ds from z, x, y to x, y, z\n",
    "        mask_p_np = np.moveaxis(mask_p_np, 0, -1)\n",
    "    mask_p_np[mask_p_np > threshold] = 1\n",
    "    mask_p_np[mask_p_np <= threshold] = 0\n",
    "\n",
    "    return mask_p_np\n",
    "    "
   ]
  },
  {
   "cell_type": "code",
   "execution_count": 3,
   "metadata": {},
   "outputs": [],
   "source": [
    "def get_mask(data_path):\n",
    "    \"\"\"\n",
    "    Loads the nifty file and returns the mask of a case\n",
    "    \"\"\"\n",
    "\n",
    "    mask = nib.load(data_path)\n",
    "    return mask.get_fdata()"
   ]
  },
  {
   "cell_type": "code",
   "execution_count": 4,
   "metadata": {},
   "outputs": [],
   "source": [
    "pred_path = os.path.join(os.getcwd(), os.pardir, os.pardir , \"data\", \"predictions\")\n",
    "mask_path = os.path.join(os.getcwd(), os.pardir, os.pardir , \"data\", \"training\")"
   ]
  },
  {
   "cell_type": "code",
   "execution_count": 54,
   "metadata": {},
   "outputs": [],
   "source": [
    "def eval_DiceScore(pred, mask):\n",
    "    \"\"\"\n",
    "    Computes the Dice score for a given prediction and mask\n",
    "    \"\"\"\n",
    "\n",
    "    pred = pred.flatten()\n",
    "    mask = mask.flatten()\n",
    "\n",
    "    intersection = np.sum(pred * mask)\n",
    "    union = np.sum(pred) + np.sum(mask)\n",
    "\n",
    "    return 2 * intersection / union\n",
    "\n",
    "def jaccard(pred, mask):\n",
    "    \"\"\"\n",
    "    Computes the Jaccard score for a given prediction and mask\n",
    "    \"\"\"\n",
    "\n",
    "    pred = pred.flatten()\n",
    "    mask = mask.flatten()\n",
    "\n",
    "    intersection = np.sum(pred * mask)\n",
    "    union = np.sum(pred) + np.sum(mask) - intersection\n",
    "\n",
    "    return intersection / union\n",
    "\n",
    "def hausdorff(pred, mask):\n",
    "    \"\"\"\n",
    "    Computes the Hausrdoff score for a given prediction and mask\n",
    "    \"\"\"\n",
    "    pass\n",
    "\n",
    "\n",
    "def average_distance(pred, mask):\n",
    "    pass\n",
    "\n",
    "def pearson_correlation(pred, mask):\n",
    "    cov = pred * mask\n",
    "    pred_std = np.std(pred)\n",
    "    mask_std = np.std(mask)\n",
    "\n",
    "    return cov / (pred_std * mask_std)"
   ]
  },
  {
   "cell_type": "code",
   "execution_count": 41,
   "metadata": {},
   "outputs": [
    {
     "name": "stdout",
     "output_type": "stream",
     "text": [
      "Dice: 0.303194025107262\n",
      "Jaccard: 0.17868514703127927\n"
     ]
    }
   ],
   "source": [
    "iteration = 5\n",
    "case = 'A123' # 'A120' 'A121' 'A123' 'A124' 'A126' 'A127' 'A129'\n",
    "threshold = 0.9\n",
    "\n",
    "pred_file = os.path.join(pred_path, \"iteration{}\".format(iteration), \"{}_predictions.h5\".format(case))\n",
    "mask_file = os.path.join(mask_path, \"{}_masks.nii.gz\".format(case))\n",
    "pred = get_predictions(pred_file, threshold=threshold)\n",
    "mask = get_mask(mask_file)\n",
    "print(\"Dice: \" + str(eval_DiceScore(pred, mask)))\n",
    "print(\"Jaccard: \" + str(jaccard(pred, mask)))"
   ]
  },
  {
   "cell_type": "code",
   "execution_count": 55,
   "metadata": {},
   "outputs": [],
   "source": [
    "def batch_eval(pred, mask, iteration, cases, threshold_batch):\n",
    "    pred_path_batch = os.path.join(os.getcwd(), os.pardir, os.pardir , \"data\", \"predictions\", \"iteration{}\".format(iteration))\n",
    "    masks_path_batch = os.path.join(os.getcwd(), os.pardir, os.pardir , \"data\", \"training\")\n",
    "\n",
    "    dice_scores = []\n",
    "    jaccard_scores = []\n",
    "\n",
    "    for case in cases:\n",
    "        pred_file = os.path.join(pred_path_batch, \"{}_predictions.h5\".format(case))\n",
    "        mask_file = os.path.join(masks_path_batch, \"{}_masks.nii.gz\".format(case))\n",
    "        pred = get_predictions(pred_file, threshold=threshold_batch)\n",
    "        mask = get_mask(mask_file)\n",
    "        dice_scores.append(eval_DiceScore(pred, mask))\n",
    "        jaccard_scores.append(jaccard(pred, mask))\n",
    "    \n",
    "    return np.mean(np.array(dice_scores)), np.mean(np.array(jaccard_scores))"
   ]
  },
  {
   "cell_type": "code",
   "execution_count": 59,
   "metadata": {},
   "outputs": [
    {
     "name": "stdout",
     "output_type": "stream",
     "text": [
      "Iteration 1: Dice: 0.006975304696811936, Jaccard: 0.0035167022942208725\n",
      "-----------------------------------------------------\n",
      "Iteration 2: Dice: 0.17296064469651032, Jaccard: 0.1330205578662148\n",
      "-----------------------------------------------------\n",
      "Iteration 3: Dice: 0.0, Jaccard: 0.0\n",
      "-----------------------------------------------------\n",
      "Iteration 4: Dice: 0.4081701577679366, Jaccard: 0.296544407140541\n",
      "-----------------------------------------------------\n",
      "Iteration 5: Dice: 0.5386860848663539, Jaccard: 0.4300732220450385\n",
      "-----------------------------------------------------\n"
     ]
    }
   ],
   "source": [
    "# Eval metrics over batch\n",
    "iteration_batch = 5\n",
    "threshold_batch = 0.95\n",
    "cases = ['A123', 'A120', 'A121', 'A123', 'A124', 'A126', 'A127', 'A129']\n",
    "\n",
    "for i in range(1, iteration + 1):\n",
    "    dice, jaccard_score = batch_eval(pred, mask, i, cases, threshold_batch)\n",
    "    print(\"Iteration {}: Dice: {}, Jaccard: {}\".format(i, dice, jaccard_score))\n",
    "    print(\"-----------------------------------------------------\")\n"
   ]
  },
  {
   "cell_type": "code",
   "execution_count": null,
   "metadata": {},
   "outputs": [],
   "source": []
  }
 ],
 "metadata": {
  "kernelspec": {
   "display_name": "Python 3.8.8 ('aneurysm-detection-2S7O2JAu-py3.8')",
   "language": "python",
   "name": "python3"
  },
  "language_info": {
   "codemirror_mode": {
    "name": "ipython",
    "version": 3
   },
   "file_extension": ".py",
   "mimetype": "text/x-python",
   "name": "python",
   "nbconvert_exporter": "python",
   "pygments_lexer": "ipython3",
   "version": "3.8.8"
  },
  "orig_nbformat": 4,
  "vscode": {
   "interpreter": {
    "hash": "db9401a29b1b0413475aeaadf186aa79e65d46eb9e31ec59868a225dc631eb99"
   }
  }
 },
 "nbformat": 4,
 "nbformat_minor": 2
}
